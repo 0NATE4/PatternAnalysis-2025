{
  "cells": [
    {
      "cell_type": "markdown",
      "metadata": {},
      "source": [
        "# Colab Launcher – LoRA Training for FLAN-T5 on BioLaySumm\n",
        "\n",
        "This notebook mirrors the Slurm script `scripts/slurm/train_flant5_base_lora.sbatch` and runs the repository code directly (no notebook-specific code).\n"
      ]
    },
    {
      "cell_type": "code",
      "execution_count": null,
      "metadata": {
        "vscode": {
          "languageId": "plaintext"
        }
      },
      "outputs": [],
      "source": [
        "#@title 1) GPU and environment\n",
        "nvidia-smi || true\n",
        "pip install -q \"transformers>=4.40\" \"datasets>=2.18\" \"evaluate>=0.4.2\" peft rouge-score accelerate tensorboard\n"
      ]
    },
    {
      "cell_type": "code",
      "execution_count": null,
      "metadata": {
        "vscode": {
          "languageId": "plaintext"
        }
      },
      "outputs": [],
      "source": [
        "#@title 2) Clone repo and cd\n",
        "rm -rf PatternAnalysis-2025 || true\n",
        "git clone https://github.com/0NATE4/PatternAnalysis-2025.git\n",
        "cd PatternAnalysis-2025/recognition/layrad-flant5-lora-nchung\n",
        "pwd\n",
        "ls -la\n"
      ]
    },
    {
      "cell_type": "code",
      "execution_count": null,
      "metadata": {},
      "outputs": [],
      "source": [
        "#@title 3) Optional: mount Google Drive for persistent checkpoints\n",
        "try:\n",
        "    from google.colab import drive\n",
        "    drive.mount('/content/drive')\n",
        "    print('Drive mounted')\n",
        "    # optionally override output dir in YAML via sed below\n",
        "except Exception as e:\n",
        "    print('Drive not available:', e)\n"
      ]
    },
    {
      "cell_type": "code",
      "execution_count": null,
      "metadata": {},
      "outputs": [],
      "source": [
        "#@title 4) Run LoRA training\n",
        "python src/train.py configs/train_flant5_base_lora.yaml\n"
      ]
    }
  ],
  "metadata": {
    "language_info": {
      "name": "python"
    }
  },
  "nbformat": 4,
  "nbformat_minor": 2
}
